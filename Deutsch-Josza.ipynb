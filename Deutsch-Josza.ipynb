{
 "cells": [
  {
   "cell_type": "markdown",
   "id": "b9ec213e",
   "metadata": {},
   "source": [
    "# Deutsch-Josza Implementation"
   ]
  },
  {
   "cell_type": "code",
   "execution_count": 42,
   "id": "6696e40e",
   "metadata": {},
   "outputs": [],
   "source": [
    "from qiskit import QuantumCircuit"
   ]
  },
  {
   "cell_type": "code",
   "execution_count": 127,
   "id": "5ab54802",
   "metadata": {},
   "outputs": [],
   "source": [
    "import random\n",
    "\n",
    "class Oracle(object):\n",
    "    def __init__(self, n):\n",
    "        self.n = n\n",
    "    \n",
    "    def build(self):\n",
    "        print(f\"Building oracle: {self.__class__.__name__} {self.__dict__}\")\n",
    "        circuit = self._build(self.n)\n",
    "        print(circuit.draw())\n",
    "        return circuit\n",
    "        \n",
    "    def _build(self, n):\n",
    "        raise NotImplemented()\n",
    "\n",
    "    \n",
    "class ConstantOracle(Oracle):\n",
    "    def __init__(self, is_zero, *args, **kwargs):\n",
    "        super().__init__(*args, **kwargs)\n",
    "        self.is_zero = is_zero\n",
    "    \n",
    "    def _build(self, n):\n",
    "        circuit = QuantumCircuit(n+1, name=self.__class__.__name__)\n",
    "        if not self.is_zero:\n",
    "            circuit.x(n)\n",
    "            \n",
    "        return circuit\n",
    "    \n",
    "class BalancedOracle(Oracle):\n",
    "    def __init__(self, *args, **kwargs):\n",
    "        super().__init__(*args, **kwargs)\n",
    "        \n",
    "    def _build(self, n):\n",
    "        circuit = QuantumCircuit(n+1)\n",
    "        for i in range(n):\n",
    "            circuit.cx(i, n)\n",
    "            \n",
    "        return circuit\n",
    "\n",
    "def get_random_oracle(n):\n",
    "    return random.choice((ConstantOracle(False, n), ConstantOracle(True, n), BalancedOracle(n))).build()"
   ]
  },
  {
   "cell_type": "code",
   "execution_count": 161,
   "id": "5bd05701",
   "metadata": {},
   "outputs": [
    {
     "name": "stdout",
     "output_type": "stream",
     "text": [
      "Building oracle: ConstantOracle {'n': 10, 'is_zero': True}\n",
      "      \n",
      " q_0: \n",
      "      \n",
      " q_1: \n",
      "      \n",
      " q_2: \n",
      "      \n",
      " q_3: \n",
      "      \n",
      " q_4: \n",
      "      \n",
      " q_5: \n",
      "      \n",
      " q_6: \n",
      "      \n",
      " q_7: \n",
      "      \n",
      " q_8: \n",
      "      \n",
      " q_9: \n",
      "      \n",
      "q_10: \n",
      "      \n"
     ]
    },
    {
     "data": {
      "text/html": [
       "<pre style=\"word-wrap: normal;white-space: pre;background: #fff0;line-height: 1.1;font-family: &quot;Courier New&quot;,Courier,monospace\">      ┌───┐     ┌──────────────────┐┌───┐┌─┐                           \n",
       " q_0: ┤ H ├─────┤0                 ├┤ H ├┤M├───────────────────────────\n",
       "      ├───┤     │                  │├───┤└╥┘┌─┐                        \n",
       " q_1: ┤ H ├─────┤1                 ├┤ H ├─╫─┤M├────────────────────────\n",
       "      ├───┤     │                  │├───┤ ║ └╥┘┌─┐                     \n",
       " q_2: ┤ H ├─────┤2                 ├┤ H ├─╫──╫─┤M├─────────────────────\n",
       "      ├───┤     │                  │├───┤ ║  ║ └╥┘┌─┐                  \n",
       " q_3: ┤ H ├─────┤3                 ├┤ H ├─╫──╫──╫─┤M├──────────────────\n",
       "      ├───┤     │                  │├───┤ ║  ║  ║ └╥┘┌─┐               \n",
       " q_4: ┤ H ├─────┤4                 ├┤ H ├─╫──╫──╫──╫─┤M├───────────────\n",
       "      ├───┤     │                  │├───┤ ║  ║  ║  ║ └╥┘┌─┐            \n",
       " q_5: ┤ H ├─────┤5  ConstantOracle ├┤ H ├─╫──╫──╫──╫──╫─┤M├────────────\n",
       "      ├───┤     │                  │├───┤ ║  ║  ║  ║  ║ └╥┘┌─┐         \n",
       " q_6: ┤ H ├─────┤6                 ├┤ H ├─╫──╫──╫──╫──╫──╫─┤M├─────────\n",
       "      ├───┤     │                  │├───┤ ║  ║  ║  ║  ║  ║ └╥┘┌─┐      \n",
       " q_7: ┤ H ├─────┤7                 ├┤ H ├─╫──╫──╫──╫──╫──╫──╫─┤M├──────\n",
       "      ├───┤     │                  │├───┤ ║  ║  ║  ║  ║  ║  ║ └╥┘┌─┐   \n",
       " q_8: ┤ H ├─────┤8                 ├┤ H ├─╫──╫──╫──╫──╫──╫──╫──╫─┤M├───\n",
       "      ├───┤     │                  │├───┤ ║  ║  ║  ║  ║  ║  ║  ║ └╥┘┌─┐\n",
       " q_9: ┤ H ├─────┤9                 ├┤ H ├─╫──╫──╫──╫──╫──╫──╫──╫──╫─┤M├\n",
       "      ├───┤┌───┐│                  │└───┘ ║  ║  ║  ║  ║  ║  ║  ║  ║ └╥┘\n",
       "q_10: ┤ X ├┤ H ├┤10                ├──────╫──╫──╫──╫──╫──╫──╫──╫──╫──╫─\n",
       "      └───┘└───┘└──────────────────┘      ║  ║  ║  ║  ║  ║  ║  ║  ║  ║ \n",
       "c: 10/════════════════════════════════════╩══╩══╩══╩══╩══╩══╩══╩══╩══╩═\n",
       "                                          0  1  2  3  4  5  6  7  8  9 </pre>"
      ],
      "text/plain": [
       "      ┌───┐     ┌──────────────────┐┌───┐┌─┐                           \n",
       " q_0: ┤ H ├─────┤0                 ├┤ H ├┤M├───────────────────────────\n",
       "      ├───┤     │                  │├───┤└╥┘┌─┐                        \n",
       " q_1: ┤ H ├─────┤1                 ├┤ H ├─╫─┤M├────────────────────────\n",
       "      ├───┤     │                  │├───┤ ║ └╥┘┌─┐                     \n",
       " q_2: ┤ H ├─────┤2                 ├┤ H ├─╫──╫─┤M├─────────────────────\n",
       "      ├───┤     │                  │├───┤ ║  ║ └╥┘┌─┐                  \n",
       " q_3: ┤ H ├─────┤3                 ├┤ H ├─╫──╫──╫─┤M├──────────────────\n",
       "      ├───┤     │                  │├───┤ ║  ║  ║ └╥┘┌─┐               \n",
       " q_4: ┤ H ├─────┤4                 ├┤ H ├─╫──╫──╫──╫─┤M├───────────────\n",
       "      ├───┤     │                  │├───┤ ║  ║  ║  ║ └╥┘┌─┐            \n",
       " q_5: ┤ H ├─────┤5  ConstantOracle ├┤ H ├─╫──╫──╫──╫──╫─┤M├────────────\n",
       "      ├───┤     │                  │├───┤ ║  ║  ║  ║  ║ └╥┘┌─┐         \n",
       " q_6: ┤ H ├─────┤6                 ├┤ H ├─╫──╫──╫──╫──╫──╫─┤M├─────────\n",
       "      ├───┤     │                  │├───┤ ║  ║  ║  ║  ║  ║ └╥┘┌─┐      \n",
       " q_7: ┤ H ├─────┤7                 ├┤ H ├─╫──╫──╫──╫──╫──╫──╫─┤M├──────\n",
       "      ├───┤     │                  │├───┤ ║  ║  ║  ║  ║  ║  ║ └╥┘┌─┐   \n",
       " q_8: ┤ H ├─────┤8                 ├┤ H ├─╫──╫──╫──╫──╫──╫──╫──╫─┤M├───\n",
       "      ├───┤     │                  │├───┤ ║  ║  ║  ║  ║  ║  ║  ║ └╥┘┌─┐\n",
       " q_9: ┤ H ├─────┤9                 ├┤ H ├─╫──╫──╫──╫──╫──╫──╫──╫──╫─┤M├\n",
       "      ├───┤┌───┐│                  │└───┘ ║  ║  ║  ║  ║  ║  ║  ║  ║ └╥┘\n",
       "q_10: ┤ X ├┤ H ├┤10                ├──────╫──╫──╫──╫──╫──╫──╫──╫──╫──╫─\n",
       "      └───┘└───┘└──────────────────┘      ║  ║  ║  ║  ║  ║  ║  ║  ║  ║ \n",
       "c: 10/════════════════════════════════════╩══╩══╩══╩══╩══╩══╩══╩══╩══╩═\n",
       "                                          0  1  2  3  4  5  6  7  8  9 "
      ]
     },
     "execution_count": 161,
     "metadata": {},
     "output_type": "execute_result"
    }
   ],
   "source": [
    "n =10\n",
    "oracle = get_random_oracle(n)\n",
    "circuit = QuantumCircuit(n+1, n)\n",
    "\n",
    "circuit.x(n)\n",
    "for i in range(n+1):\n",
    "    circuit.h(i)\n",
    "\n",
    "circuit.append(oracle.to_instruction(), list(range(n+1)))\n",
    "\n",
    "for i in range(n):\n",
    "    circuit.h(i)\n",
    "    circuit.measure([i], [i])\n",
    "circuit.draw()"
   ]
  },
  {
   "cell_type": "code",
   "execution_count": 135,
   "id": "39863a42",
   "metadata": {},
   "outputs": [],
   "source": [
    "from qiskit import transpile\n",
    "from qiskit_aer import AerSimulator"
   ]
  },
  {
   "cell_type": "code",
   "execution_count": 162,
   "id": "49210f70",
   "metadata": {},
   "outputs": [
    {
     "name": "stdout",
     "output_type": "stream",
     "text": [
      "0000000000\n"
     ]
    }
   ],
   "source": [
    "simulator = AerSimulator()\n",
    "job = simulator.run(transpile(circuit, simulator), shots=1)\n",
    "result = job.result()\n",
    "print(list(result.get_counts())[0])"
   ]
  }
 ],
 "metadata": {
  "kernelspec": {
   "display_name": "Python 3 (ipykernel)",
   "language": "python",
   "name": "python3"
  },
  "language_info": {
   "codemirror_mode": {
    "name": "ipython",
    "version": 3
   },
   "file_extension": ".py",
   "mimetype": "text/x-python",
   "name": "python",
   "nbconvert_exporter": "python",
   "pygments_lexer": "ipython3",
   "version": "3.8.16"
  }
 },
 "nbformat": 4,
 "nbformat_minor": 5
}
